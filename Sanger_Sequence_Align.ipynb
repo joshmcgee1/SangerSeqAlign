{
  "nbformat": 4,
  "nbformat_minor": 0,
  "metadata": {
    "colab": {
      "name": "Sanger Sequence Align",
      "provenance": [],
      "private_outputs": true,
      "authorship_tag": "ABX9TyOpGsXiGveN/tJ6Viu48nBt",
      "include_colab_link": true
    },
    "kernelspec": {
      "name": "python3",
      "display_name": "Python 3"
    },
    "language_info": {
      "name": "python"
    },
    "accelerator": "GPU"
  },
  "cells": [
    {
      "cell_type": "markdown",
      "metadata": {
        "id": "view-in-github",
        "colab_type": "text"
      },
      "source": [
        "<a href=\"https://colab.research.google.com/github/joshmcgee1/SangerSeqAlign/blob/main/Sanger_Sequence_Align.ipynb\" target=\"_parent\"><img src=\"https://colab.research.google.com/assets/colab-badge.svg\" alt=\"Open In Colab\"/></a>"
      ]
    },
    {
      "cell_type": "markdown",
      "source": [
        "#Instructions: Select Runtime -> Run All, Upload GenBank reference file for plasmid that you wish to have reads aligned to, upload .abi files for Sanger Sequencing Reads"
      ],
      "metadata": {
        "id": "lk72Pyd_nfBb"
      }
    },
    {
      "cell_type": "markdown",
      "source": [
        "#GenBank Reference File Upload (Vector Template for Alignment)"
      ],
      "metadata": {
        "id": "pgciySrSkryK"
      }
    },
    {
      "cell_type": "code",
      "source": [
        "from google.colab import files\n",
        "\n",
        "uploaded = files.upload()\n",
        "fn = uploaded.keys()\n",
        "for fn in uploaded.keys():\n",
        "  print(fn)"
      ],
      "metadata": {
        "id": "DA-LJ3-gP9q6"
      },
      "execution_count": null,
      "outputs": []
    },
    {
      "cell_type": "markdown",
      "source": [
        "#Upload Sanger Read Files (abi format) OK to upload"
      ],
      "metadata": {
        "id": "Iwod6HollD5y"
      }
    },
    {
      "cell_type": "code",
      "source": [
        "from google.colab import files\n",
        "\n",
        "seq_files = files.upload()"
      ],
      "metadata": {
        "id": "TRCjDe4Xh7Nq"
      },
      "execution_count": null,
      "outputs": []
    },
    {
      "cell_type": "markdown",
      "source": [
        "#Run Code to Receive Alignment Results"
      ],
      "metadata": {
        "id": "vZuSK74tiF2c"
      }
    },
    {
      "cell_type": "code",
      "execution_count": null,
      "metadata": {
        "id": "g4oa7VP6gPIP"
      },
      "outputs": [],
      "source": [
        "!pip install easygui\n",
        "!pip install Bio\n",
        "!pip install pandas\n",
        "\n",
        "import pandas as pd\n",
        "import easygui\n",
        "from Bio import SeqIO\n",
        "from Bio import pairwise2\n",
        "from Bio.pairwise2 import format_alignment\n",
        "\n",
        "record_ref = SeqIO.read(fn, \"genbank\")\n",
        "\n",
        "feature_dict = {\"Name\": [], \"Type\":[], \"Start\": [], \"End\": [], \"Strand\": []}\n",
        "feature_start = []\n",
        "feature_end = []\n",
        "\n",
        "for feature in record_ref.features:\n",
        "    if feature.type == \"CDS\" or feature.type == \"misc_feature\" or feature.type == \"primer\":\n",
        "        feature_dict[\"Name\"].append(feature.qualifiers['label'])\n",
        "        feature_dict[\"Type\"].append(feature.type)\n",
        "        feature_dict[\"Start\"].append(feature.location.start.position)\n",
        "        feature_dict[\"End\"].append(feature.location.end.position)\n",
        "        feature_dict[\"Strand\"].append(feature.strand)\n",
        "        feature_start.append(feature.location.start.position)\n",
        "        feature_end.append(feature.location.end.position)\n",
        "\n",
        "ref_seq = record_ref.seq\n",
        "\n",
        "print('Initializing.....****************************************************************************************')\n",
        "print('reference file: ', record_ref.id ,' length: ', len(ref_seq))\n",
        "print('sequence: ', ref_seq)\n",
        "print()\n",
        "print('----- Extracted Features from Reference ------')\n",
        "df = pd.DataFrame(feature_dict)\n",
        "print(df)\n",
        "\n",
        "print()\n",
        "print('*********************************************************************************************************')\n",
        "sequences = []\n",
        "sequence_list = [record_ref, ]\n",
        "results_list = {\"File Name\": [], \"Read Length\": [], \"% Match\": [], \"Strand\": [], \"Matched Features\": [], \"Sequence\": []}\n",
        "\n",
        "skip_reverse = 0\n",
        "strand = 1\n",
        "idx = 1\n",
        "for file in seq_files:\n",
        "    record = SeqIO.read(file, \"abi-trim\")\n",
        "    sequence_list.append(record)\n",
        "    seq = record.seq\n",
        "    if seq == 'NNNNN':\n",
        "        print('Sequencing Failed for ID:', record.id)\n",
        "        results_list[\"File Name\"].append(record.id)\n",
        "        results_list[\"Read Length\"].append('Failed')\n",
        "        results_list[\"% Match\"].append('Failed')\n",
        "        results_list[\"Strand\"].append('Failed')\n",
        "        results_list[\"Matched Features\"].append('Failed')\n",
        "        results_list[\"Sequence\"].append('Failed')\n",
        "        print('*********************************************************************************************************')\n",
        "        print()\n",
        "    else:\n",
        "        reverse = record.seq.reverse_complement()\n",
        "        print()\n",
        "        print('******************** New Sequencing Record ',idx, '/', len(seq_files),' **************************************************************')\n",
        "        print('file: ', record.id, ' read length: ', len(seq))\n",
        "        print('extracted seq: ', seq)\n",
        "        sequences = [record_ref, record]\n",
        "\n",
        "        print('Forward Alignment for ID: ', record.id)\n",
        "        test_alignments = pairwise2.align.localms(seq, ref_seq, 1, -2, -5, -4, one_alignment_only=True)\n",
        "        seq_length = min(len(seq), len(ref_seq))\n",
        "        matches = test_alignments[0][2]\n",
        "        percent_match = (matches / seq_length) * 100\n",
        "\n",
        "        print(format_alignment(*test_alignments[0], full_sequences=False))\n",
        "\n",
        "        results_list[\"File Name\"].append(record.id)\n",
        "        results_list[\"Read Length\"].append(len(seq))\n",
        "\n",
        "        fwd_start = test_alignments[0][3]\n",
        "        fwd_end = test_alignments[0][4]\n",
        "\n",
        "        matched_list = {\"Name\": []}\n",
        "        if percent_match > 90:\n",
        "            results_list[\"Sequence\"].append(seq)\n",
        "            sequence_list.append(record)\n",
        "            percent_match = \"{:.2f}\".format(percent_match)\n",
        "            results_list[\"% Match\"].append(percent_match)\n",
        "            results_list[\"Strand\"].append('FWD')\n",
        "            for i in range(0, len(feature_start)):\n",
        "              if fwd_start in range(feature_dict[\"Start\"][i], feature_dict[\"End\"][i]) or fwd_end in range(\n",
        "                  feature_dict[\"Start\"][i], feature_dict[\"End\"][i]) and strand == feature_dict[\"Strand\"][i]:\n",
        "                  print('Alignment Matched to Feature: ', feature_dict[\"Name\"][i],' Type: ', feature_dict[\"Type\"][i])\n",
        "                  matched_list[\"Name\"].append(feature_dict[\"Name\"][i])\n",
        "            results_list[\"Matched Features\"].append(matched_list[\"Name\"])\n",
        "            matched_list = {\"Name\": []}\n",
        "            print()\n",
        "            print('% match: ', percent_match, ' matched bps: ', matches)\n",
        "            skip_reverse = 1\n",
        "        else:\n",
        "            skip_reverse = 0\n",
        "            percent_match = \"{:.2f}\".format(percent_match)\n",
        "            print('*not a significant match*', ' % match: ', percent_match, ' matched bps: ', matches)\n",
        "            fwd_failed = percent_match\n",
        "\n",
        "        if skip_reverse != 1:\n",
        "            strand = -1\n",
        "            print()\n",
        "            print('------- Forward Failed... Trying Reverse Alignment for ID: ', record.id, '-----------')\n",
        "            test_alignments = pairwise2.align.localms(reverse, ref_seq, 1, -2, -5, -4, one_alignment_only=True)\n",
        "            seq_length = min(len(reverse), len(ref_seq))\n",
        "            matches = test_alignments[0][2]\n",
        "            percent_match = (matches / seq_length) * 100\n",
        "            print(format_alignment(*test_alignments[0], full_sequences=False))\n",
        "            rev_start = test_alignments[0][3]\n",
        "            rev_end = test_alignments[0][4]\n",
        "            if percent_match > 90:\n",
        "                results_list[\"Sequence\"].append(seq.reverse_complement())\n",
        "                sequence_list.append(record.reverse_complement())\n",
        "                percent_match = \"{:.2f}\".format(percent_match)\n",
        "                for i in range(0, len(feature_start)):\n",
        "                  if rev_start in range(feature_dict[\"Start\"][i], feature_dict[\"End\"][i]) or rev_end in range(\n",
        "                    feature_dict[\"Start\"][i], feature_dict[\"End\"][i]) and strand == feature_dict[\"Strand\"][i]:\n",
        "                    print('Alignment Matched to Feature: ', feature_dict[\"Name\"][i],' Type: ', feature_dict[\"Type\"][i])\n",
        "                    matched_list[\"Name\"].append(feature_dict[\"Name\"][i])\n",
        "                results_list[\"Matched Features\"].append(str(matched_list[\"Name\"]))\n",
        "                matched_list = {\"Name\": []}\n",
        "\n",
        "                results_list[\"% Match\"].append(percent_match)\n",
        "                results_list[\"Strand\"].append('REV')\n",
        "                print()\n",
        "                print('Reverse % match: ', percent_match, ' matched bps: ', matches)\n",
        "                print()\n",
        "            else:\n",
        "                percent_match = \"{:.2f}\".format(percent_match)\n",
        "                print()\n",
        "                if percent_match > fwd_failed:\n",
        "                  results_list[\"% Match\"].append(percent_match)\n",
        "                  results_list[\"Strand\"].append('REV')\n",
        "                  results_list[\"Sequence\"].append(seq.reverse_complement())\n",
        "                  strand = -1\n",
        "                  for i in range(0, len(feature_start)):\n",
        "                      if rev_start in range(feature_dict[\"Start\"][i], feature_dict[\"End\"][i]) or rev_end in range(\n",
        "                      feature_dict[\"Start\"][i], feature_dict[\"End\"][i]) and strand == feature_dict[\"Strand\"][i]:\n",
        "                        print('Alignment Matched to Feature: ', feature_dict[\"Name\"][i],' Type: ', feature_dict[\"Type\"][i])\n",
        "                        matched_list[\"Name\"].append(feature_dict[\"Name\"][i])\n",
        "                  results_list[\"Matched Features\"].append(str(matched_list[\"Name\"]))\n",
        "                else:\n",
        "                  strand = 1\n",
        "                  results_list[\"Sequence\"].append(seq)\n",
        "                  for i in range(0, len(feature_start)):\n",
        "                    if fwd_start in range(feature_dict[\"Start\"][i], feature_dict[\"End\"][i]) or fwd_end in range(\n",
        "                      feature_dict[\"Start\"][i], feature_dict[\"End\"][i]) and strand == feature_dict[\"Strand\"][i]:\n",
        "                        matched_list[\"Name\"].append(feature_dict[\"Name\"][i])\n",
        "                        print('Alignment Matched to Feature: ', feature_dict[\"Name\"][i],' Type: ', feature_dict[\"Type\"][i])\n",
        "                  results_list[\"Matched Features\"].append(str(matched_list[\"Name\"]))\n",
        "                  results_list[\"% Match\"].append(fwd_failed)\n",
        "                  results_list[\"Strand\"].append('FWD')\n",
        "\n",
        "                print()\n",
        "                print('*not a significant match*', ' % match: ', percent_match, ' matched bps: ', matches)\n",
        "                print()\n",
        "\n",
        "            skip_reverse = 0\n",
        "            strand = 1\n",
        "            print()\n",
        "            print('******************** End of Record ********************************************************************')\n",
        "            print()\n",
        "            idx = idx+1\n",
        "\n",
        "SeqIO.write(sequence_list, \"alignment.fasta\", \"fasta\")\n",
        "print()\n",
        "print('------ Significant Matches Exported to alignment.fasta -----')\n",
        "\n",
        "print()\n",
        "print('----- Results Table ------')\n",
        "pd.set_option('display.max_rows', 1000)\n",
        "pd.set_option('display.max_columns', 1000)\n",
        "df = pd.DataFrame(results_list)\n",
        "print(df)\n",
        "\n",
        "df.to_excel(\"results.xlsx\") \n",
        "files.download(\"results.xlsx\")\n",
        "files.download(\"alignment.fasta\")"
      ]
    }
  ]
}